{
 "cells": [
  {
   "cell_type": "markdown",
   "id": "ad4da2fc-e453-4649-b97a-7f1494128618",
   "metadata": {},
   "source": [
    "# Load and plot Unsmoothed level-2 SSH\n",
    "\n",
    "Date: December 1, 2023\n",
    "\n",
    "Disclaimer: This tutorial provides a quick guide for loading and visualizing the SWOT Level-2 SSH data Unsmoothed (250m posting) subcollection. As of the time of writing, please note that the unsmoothed product lacks the same comprehensive error corrections found in the Basic and Expert products. Notably, the cross-swath bias, atmospheric corrections, tidal corrections, sea state bias, mean sea surface, etc., are not removed. \n",
    "\n",
    "The code below addresses the cross-swath bias by applying a linear detrend along long (1000km) segments. However, this approach is ad hoc and may introduce significant errors in coastal and inland waters if the available data segments are shorter than ~1000km due to land/ice cover. Please exercise caution when using this method.\n",
    "\n",
    "This notebook requires the swot_ssh_utils.py library in this package [https://github.com/SWOT-community/SWOT-OpenToolkit/blob/main/src/swot_ssh_utils.py]. \n",
    "\n",
    "It also requires the newer mean sea surface to provide a more accurate bias removal. The details of the MSS removal can be found here: https://github.com/SWOT-community/SWOT_SIO/tree/main/examples/replace_mss. swot_ssh_utils.py will automatically download the mss_sio_32.1_WGS84.nc into ../data folder if it does not exists. "
   ]
  },
  {
   "cell_type": "code",
   "execution_count": 12,
   "id": "aa55c922-7dbf-4c87-8228-66a53e251a6a",
   "metadata": {},
   "outputs": [],
   "source": [
    "# -*- coding: utf-8 -*-\n",
    "#add the path to the swot library\n",
    "import sys\n",
    "sys.path.append('../src/')\n",
    "import swot_ssh_utils as swot\n",
    "\n",
    "#turn off warnings\n",
    "import warnings\n",
    "warnings.filterwarnings(\"ignore\")\n"
   ]
  },
  {
   "cell_type": "markdown",
   "id": "f8cc80d3-2183-4318-9c87-d7d7d812cbde",
   "metadata": {},
   "source": [
    "## Load and plot pass 13 in the Northeast Pacific region"
   ]
  },
  {
   "cell_type": "code",
   "execution_count": 19,
   "id": "60b5ee01-5e82-406b-a809-30e324d8ab8a",
   "metadata": {
    "tags": []
   },
   "outputs": [
    {
     "name": "stdout",
     "output_type": "stream",
     "text": [
      "Load unsmoothed data to self.left and self.right\n",
      "Subset data between latitude bounds  [30, 42]\n",
      "<xarray.Dataset>\n",
      "Dimensions:                                (num_lines: 5691, num_pixels: 240)\n",
      "Coordinates:\n",
      "    latitude                               (num_lines, num_pixels) float64 na...\n",
      "    longitude                              (num_lines, num_pixels) float64 na...\n",
      "Dimensions without coordinates: num_lines, num_pixels\n",
      "Data variables: (12/16)\n",
      "    time                                   (num_lines) datetime64[ns] ...\n",
      "    time_tai                               (num_lines) datetime64[ns] ...\n",
      "    latitude_uncert                        (num_lines, num_pixels) float32 ...\n",
      "    longitude_uncert                       (num_lines, num_pixels) float32 ...\n",
      "    polarization_karin                     (num_lines) object ...\n",
      "    ssh_karin_2                            (num_lines, num_pixels) float64 ...\n",
      "    ...                                     ...\n",
      "    sig0_karin_uncert                      (num_lines, num_pixels) float32 ...\n",
      "    total_coherence                        (num_lines, num_pixels) float32 ...\n",
      "    mean_sea_surface_cnescls               (num_lines, num_pixels) float64 ...\n",
      "    miti_power_250m                        (num_lines, num_pixels) float32 ...\n",
      "    miti_power_var_250m                    (num_lines, num_pixels) float32 ...\n",
      "    ancillary_surface_classification_flag  (num_lines, num_pixels) float32 ...\n",
      "Attributes:\n",
      "    description:  Unsmoothed SSH measurement data and related information for...\n"
     ]
    }
   ],
   "source": [
    "import matplotlib.pyplot as plt\n",
    "import numpy as np\n",
    "import cartopy.crs as ccrs\n",
    "import cartopy.feature as cfeature\n",
    "import swot_ssh_utils as swot\n",
    "\n",
    "# initialize the class SSH_L2\n",
    "dd=swot.SSH_L2()\n",
    "\n",
    "# replace the unsmoothed file here\n",
    "folder=\"/mnt/flow/swot/KaRIn/SWOT_L2_LR_SSH_1.1/\"\n",
    "fn = folder+\"SWOT_L2_LR_SSH_Unsmoothed_478_013_20230402T073744_20230402T082850_PIA1_01.nc\" \n",
    "\n",
    "# load data into the class\n",
    "# the lat_bounds keyword is used to subset the data\n",
    "# the return is dd.left and dd.right, which correspond to the left and right swath\n",
    "dd.load_data(fn,lat_bounds=[30,42],)\n",
    "\n",
    "# print the variables in the file\n",
    "print(dd.left)\n"
   ]
  },
  {
   "cell_type": "markdown",
   "metadata": {},
   "source": [
    "## Visualize the unsmoothed SSH\n",
    "\n",
    "Most likely you need to modify the following line in the code to fit your region. \n",
    "\n",
    "    msk=(lat[:,10]>30)&(lat[:,10]<38.7)"
   ]
  },
  {
   "cell_type": "code",
   "execution_count": 24,
   "id": "5edca024-b127-4830-a79f-b3feeb5cedb7",
   "metadata": {},
   "outputs": [],
   "source": [
    "# Create a map using cartopy\n",
    "\n",
    "fig, ax = plt.subplots(figsize=(3, 6), subplot_kw=dict(projection=ccrs.PlateCarree()))\n",
    "\n",
    "# add land, rivers, lakes, and coastlines\n",
    "land = cfeature.NaturalEarthFeature('physical', 'land', '10m', edgecolor='face', facecolor='gray')\n",
    "ax.add_feature(land)\n",
    "ax.add_feature(cfeature.RIVERS, linewidth=0.5)\n",
    "ax.add_feature(cfeature.LAKES, linewidth=0.5)\n",
    "\n",
    "# add states and provinces\n",
    "states_provinces = cfeature.NaturalEarthFeature(\n",
    "    category='cultural',\n",
    "    name='admin_1_states_provinces_lines',\n",
    "    scale='10m',\n",
    "    facecolor='none')\n",
    "\n",
    "# visualize the data seperately for left and right swaths\n",
    "for tmp in [dd.left,dd.right]:\n",
    "    #find data points in the open ocean (flag==0)\n",
    "    #This flag is not always reliable, but it is the best we have for now\n",
    "    surf=tmp.ancillary_surface_classification_flag==0\n",
    "\n",
    "    # There is a flag ssh_karin_2_qual that can be used to filter out bad data\n",
    "    # But it is not always reliable yet in the current products (Dec 1, 2023)\n",
    "    # This flag is not yet used in the code below, but you can uncomment the following line to check it. \n",
    "    #qc_flag=tmp.ssh_karin_2_qual==0 # flag==0 means good data\n",
    "    \n",
    "    #mask out non-ocean and bad data\n",
    "    dtm=np.where(surf,tmp.ssh_karin_2.data,np.nan) \n",
    "    \n",
    "    dtm=dtm-np.nanmin(dtm.flatten()) # this can remove the cross-swath bias \n",
    "    \n",
    "    lon,lat=tmp.longitude.data,tmp.latitude.data\n",
    "    \n",
    "    m=~np.isnan(lon+lat).flatten() # mask out the nan values\n",
    "    \n",
    "    mss=swot.get_mss22(lon,lat) # get the mean sea surface\n",
    "    dtm-=mss # remove the mean sea surface \n",
    "    \n",
    "    # the following line find the latitude limit\n",
    "    # to bound the area for along-track mean removal\n",
    "    # you can change the bounds to get a better fit for your region. \n",
    "    # The 10th column of the lat array is used as an approximate. \n",
    "    msk=(lat[:,10]>30)&(lat[:,10]<38.7)\n",
    "    \n",
    "    # remove the along-track mean, the ad hoc way of removing cross-swath bias\n",
    "    dtm=dtm - np.nanmean(dtm[msk,:],axis=0)[np.newaxis,:] \n",
    "    \n",
    "    # plot the data using scatter \n",
    "    cax=ax.scatter(lon.flatten()[m], lat.flatten()[m], \n",
    "                   c=dtm.flatten()[m], s=0.05, vmin=-0.20,vmax=0.20, \n",
    "                   cmap=plt.cm.Spectral ,transform=ccrs.PlateCarree())\n",
    "# add colorbar and gridlines\n",
    "gl = ax.gridlines(draw_labels=True, color='gray', \n",
    "                  alpha=0.5, linestyle='--')\n",
    "cbar = plt.colorbar(cax, ax=ax,shrink=0.6)\n",
    "# remove the right side ylabels\n",
    "gl.right_labels = False\n",
    "cbar.set_label('ssh_karin_2')\n",
    "ax.set_title(fn.split('/')[-1].split('_')[7])\n",
    "\n",
    "# set the extent of the map\n",
    "lonmin,lonmax,latmin,latmax=np.nanmin(lon),np.nanmax(lon),np.nanmin(lat),np.nanmax(lat)\n",
    "ax.set_extent([lonmin,lonmax,latmin,latmax], crs=ccrs.PlateCarree())\n",
    "\n",
    "plt.tight_layout()\n",
    "plt.savefig('../media/unsmoothed_SF_coast.png',dpi=100)"
   ]
  },
  {
   "cell_type": "code",
   "execution_count": null,
   "metadata": {},
   "outputs": [],
   "source": []
  }
 ],
 "metadata": {
  "kernelspec": {
   "display_name": "Python 3 (ipykernel)",
   "language": "python",
   "name": "python3"
  },
  "language_info": {
   "codemirror_mode": {
    "name": "ipython",
    "version": 3
   },
   "file_extension": ".py",
   "mimetype": "text/x-python",
   "name": "python",
   "nbconvert_exporter": "python",
   "pygments_lexer": "ipython3",
   "version": "3.10.12"
  }
 },
 "nbformat": 4,
 "nbformat_minor": 5
}
